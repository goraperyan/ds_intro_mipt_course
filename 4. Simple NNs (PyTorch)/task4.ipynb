{
 "cells": [
  {
   "cell_type": "markdown",
   "metadata": {
    "id": "Kb_PVxXaW2Qy"
   },
   "source": [
    "# <a href=\"https://miptstats.github.io/courses/ad_fivt.html\">Введение в анализ данных</a>\n",
    "## Домашнее задание 4. Нейронные сети.\n"
   ]
  },
  {
   "cell_type": "markdown",
   "metadata": {
    "id": "duMi1QifW2Qz"
   },
   "source": [
    "**Правила, <font color=\"red\">прочитайте внимательно</font>:**\n",
    "\n",
    "* Выполненную работу нужно отправить телеграм-боту `@miptstats_ds24_bot`. Для начала работы с ботом каждый раз отправляйте `/start`. **Работы, присланные иным способом, не принимаются.**\n",
    "* Дедлайн см. в боте. После дедлайна работы не принимаются кроме случаев наличия уважительной причины.\n",
    "* Прислать нужно **ноутбук в формате `ipynb`**.\n",
    "* Следите за размером файлов. **Бот не может принимать файлы весом более 20 Мб.** Если файл получается больше, заранее разделите его на несколько.\n",
    "* Выполнять задание необходимо полностью самостоятельно. **При обнаружении списывания все участники списывания будут сдавать устный зачет.**\n",
    "* Решения, размещенные на каких-либо интернет-ресурсах, не принимаются. Кроме того, публикация решения в открытом доступе может быть приравнена к предоставлении возможности списать.\n",
    "* Для выполнения задания используйте этот ноутбук в качестве основы, ничего не удаляя из него. Можно добавлять необходимое количество ячеек.\n",
    "* Комментарии к решению пишите в markdown-ячейках.\n",
    "* Выполнение задания (ход решения, выводы и пр.) должно быть осуществлено на русском языке.\n",
    "* Если код будет не понятен проверяющему, оценка может быть снижена.\n",
    "* Никакой код из данного задания при проверке запускаться не будет. *Если код студента не выполнен, недописан и т.д., то он не оценивается.*\n",
    "\n",
    "**Правила оформления теоретических задач:**\n",
    "\n",
    "* Решения необходимо прислать одним из следующих способов:\n",
    "  * фотографией в правильной ориентации, где все четко видно, а почерк разборчив,\n",
    "    * отправив ее как файл боту вместе с ноутбуком *или*\n",
    "    * вставив ее в ноутбук посредством `Edit -> Insert Image`;\n",
    "  * в виде $LaTeX$ в markdown-ячейках.\n",
    "* Решения не проверяются, если какое-то требование не выполнено. Особенно внимательно все проверьте в случае выбора второго пункта (вставки фото в ноутбук). <font color=\"red\"><b>Неправильно вставленные фотографии могут не передаться при отправке.</b></font> Для проверки попробуйте переместить `ipynb` в другую папку и открыть его там.\n",
    "* В решениях поясняйте, чем вы пользуетесь, хотя бы кратко. Например, если пользуетесь независимостью, то достаточно подписи вида \"*X и Y незав.*\"\n",
    "* Решение, в котором есть только ответ, и отсутствуют вычисления, оценивается в 0 баллов.\n",
    "\n",
    "\n",
    "\n",
    "\n",
    "\n",
    "**Баллы за задание:**\n",
    "\n",
    "* Задача 1 &mdash; 60 баллов\n",
    "* Задача 2 &mdash; 30 баллов"
   ]
  },
  {
   "cell_type": "code",
   "execution_count": 1,
   "metadata": {
    "id": "pWZ4wmCvW2Q0"
   },
   "outputs": [],
   "source": [
    "# Bot check\n",
    "\n",
    "# HW_ID: fpmi_ad4\n",
    "# Бот проверит этот ID и предупредит, если случайно сдать что-то не то.\n",
    "\n",
    "# Status: final\n",
    "# Перед отправкой в финальном решении удали \"not\" в строчке выше.\n",
    "# Так бот проверит, что ты отправляешь финальную версию, а не промежуточную.\n",
    "# Никакие значения в этой ячейке не влияют на факт сдачи работы."
   ]
  },
  {
   "cell_type": "code",
   "execution_count": 1,
   "metadata": {
    "execution": {
     "iopub.execute_input": "2024-04-07T09:31:37.757284Z",
     "iopub.status.busy": "2024-04-07T09:31:37.756884Z",
     "iopub.status.idle": "2024-04-07T09:31:42.316826Z",
     "shell.execute_reply": "2024-04-07T09:31:42.315888Z",
     "shell.execute_reply.started": "2024-04-07T09:31:37.757250Z"
    },
    "id": "ht9Xm0EucoAr"
   },
   "outputs": [],
   "source": [
    "import numpy as np\n",
    "import scipy.stats as sps\n",
    "\n",
    "import matplotlib.pyplot as plt\n",
    "import seaborn as sns\n",
    "from IPython.display import clear_output\n",
    "from sklearn.model_selection import train_test_split\n",
    "\n",
    "sns.set(font_scale=1.2, palette=\"Set2\")\n",
    "%matplotlib inline"
   ]
  },
  {
   "cell_type": "markdown",
   "metadata": {
    "id": "NtWewpfoLl5S"
   },
   "source": [
    "---\n",
    "### <font color=\"blue\"><i>Легкая часть</i></font>"
   ]
  },
  {
   "cell_type": "markdown",
   "metadata": {
    "id": "x-9Z1rmVW2Q1"
   },
   "source": [
    "---\n",
    "### Задача 1.\n",
    "\n",
    "Рассмотрим двухслойную нейронную сеть, которая принимает на вход $x\\in\\mathbb{R}$ и возвращает $y\\in\\mathbb{R}$. Выход первого слоя возвращает $u \\in\\mathbb{R}^2$. После первого слоя используется функция активации $\\sigma(x) = \\frac{1}{1 + \\exp(-x)}$, после второго слоя функция активации не используется (или используется тождественная). Тем самым нашу нейронную можно представить в виде\n",
    "\n",
    "$$\\widehat{y}(x) = \\sum_{h=1}^2 w_{2h}u_h(x) + b_2,$$\n",
    "\n",
    "$$u_h(x) = \\sigma(w_{1h}x + b_{1h}),$$\n",
    "\n",
    "$$\\text{где} \\; h \\in \\{1, 2\\}.$$\n",
    "\n"
   ]
  },
  {
   "cell_type": "markdown",
   "metadata": {
    "id": "4eii8MGZW2Q1"
   },
   "source": [
    "**1.** Нарисуйте схематически данную нейронную сеть. Сколько у нее обучаемых параметров?"
   ]
  },
  {
   "cell_type": "markdown",
   "metadata": {
    "id": "REawtgDJW2Q1"
   },
   "source": [
    "**Решение:** См файл task_1.pdf (решение всей задачи 1 целиком)"
   ]
  },
  {
   "cell_type": "markdown",
   "metadata": {
    "id": "b8DZXIx7W2Q2"
   },
   "source": [
    "**2.** Пусть нам дана обучающая выборка $(X_1, Y_1), ..., (X_n, Y_n)$, где $X_i \\in \\mathbb{R}$ и $Y_i \\in \\mathbb{R}$. Нейронная сеть обучается по этой выборке, минимизируя заданную функцию $L$ &mdash; функцию ошибки. Положим, что $L$ &mdash; это MSE:\n",
    "$$\\text{MSE} = L(X, Y) = \\frac{1}{n}\\sum_{i=1}^n \\big(Y_i - \\widehat{y}(X_i)\\big)^2.$$\n",
    "\n",
    "Наша задача &mdash; найти оптимальные параметры нашей модели для минимизации $L(X, Y)$ на заданном наборе данных. Мы будем решать эту задачу с помощью градиентного спуска. Для этого нам понадобится выписать производные по всем параметрам сети. Конечно, в данном случае довольно просто выписать все производные напрямую. Однако мы воспользуемся следующей хитростью: мы будем считать производные поэтапно, причем начнем с конца вычислительной цепочки и, используя формулу производной сложной функции, последовательно посчитаем все необходимые производные. Этот процесс называется методом **обратного распространения ошибки (backpropagation)**."
   ]
  },
  {
   "cell_type": "markdown",
   "metadata": {
    "id": "sns2ZZArW2Q2"
   },
   "source": [
    "**2.1.** Начнем с производной MSE по выходам сети\n",
    "$$\\frac{\\partial\\:\\text{MSE}}{\\partial \\widehat{y}(X_i)} = \\; \\frac{2}{n}\\sum_{i=1}^n \\big(\\widehat{y}(X_i) - Y_i\\big)$$"
   ]
  },
  {
   "cell_type": "markdown",
   "metadata": {
    "id": "mN2TO-MAW2Q2"
   },
   "source": [
    "**2.2** Возьмем производные выходов сети по параметрам последнего слоя\n",
    "\n",
    "$$\\frac{\\partial \\widehat{y}(X_i)}{\\partial w_{2h}} = \\; u_h(X_i)$$\n",
    "\n",
    "$$\\frac{\\partial \\widehat{y}(X_i)}{\\partial b_2} = \\; 1$$\n",
    "\n",
    "Также выпишем производные выходов сети по входам последнего слоя\n",
    "\n",
    "$$\\frac{\\partial \\widehat{y}(X_i)}{\\partial u_h(X_i)} = \\; w_{2h}$$\n",
    "\n",
    "Теперь выпишем производные MSE по параметрам и входам последнего слоя. Для этого вспомните правило производной сложной функции из математического анализа. Обратите внимание на то, что нам не нужно прописывать все производные до конца, достаточно заполнить пропуски в записи ниже:\n",
    "\n",
    "$$\\frac{\\partial\\:\\text{MSE}}{\\partial w_{2h}} = \\sum_{i=1}^n \\frac{\\partial\\:\\text{MSE}}{\\partial \\widehat{y_i}(x)} \\frac{\\partial \\widehat{y_i}(x)}{\\partial w_{2h}}$$\n",
    "\n",
    "$$\\frac{\\partial\\:\\text{MSE}}{\\partial b_2} = \\sum_{i=1}^n \\frac{\\partial\\:\\text{MSE}}{\\partial \\widehat{y_i}(x)} \\frac{\\partial \\widehat{y_i}(x)}{\\partial b_2}$$\n",
    "\n",
    "$$\\frac{\\partial\\:\\text{MSE}}{\\partial u_h} = \\sum_{i=1}^n \\frac{\\partial\\:\\text{MSE}}{\\partial \\widehat{y_i}(x)} \\frac{\\partial \\widehat{y_i}(x)}{\\partial u_h}$$"
   ]
  },
  {
   "cell_type": "markdown",
   "metadata": {
    "id": "u4_alAF5W2Q2"
   },
   "source": [
    "**2.3.** Теперь будем разбираться с производными по параметрам первого слоя.\n",
    "\n",
    "Для начала нам пригодится производная функции активации, запишите ее так, чтобы ответе осталась функция от $\\sigma(x)$\n",
    "\n",
    "$$\\frac{\\partial\\:\\sigma(x)}{\\partial x} = \\; \\sigma(x) \\big(1 -\\sigma(x)\\big)$$\n",
    "\n",
    "Теперь возьмем производные выходов первого слоя по его параметрам\n",
    "\n",
    "$$\\frac{\\partial u_h(X_i)}{\\partial w_{1h}} = \\; u_h(X_i) \\big(1 -u_h(X_i)\\big) \\cdot X_i$$\n",
    "\n",
    "$$\\frac{\\partial u_h(X_i)}{\\partial b_{1h}} = \\; u_h(X_i) \\big(1 -u_h(X_i)\\big)$$\n",
    "\n",
    "Наконец, выпишем производные MSE по параметрам первого слоя. Так же как и раньше достаточно заполнить пропуски в записи ниже\n",
    "\n",
    "$$\\frac{\\partial\\:\\text{MSE}}{\\partial w_{1h}} = \\; \\sum_{i=1}^n \\frac{\\partial\\:\\text{MSE}}{\\partial u_h(X_i)} \\frac{\\partial u_h(X_i)}{\\partial w_{1h}}$$\n",
    "\n",
    "$$\\frac{\\partial\\:\\text{MSE}}{\\partial b_{1h}} = \\; \\sum_{i=1}^n \\frac{\\partial\\:\\text{MSE}}{\\partial u_h(X_i)} \\frac{\\partial u_h(X_i)}{\\partial b_{1h}}$$"
   ]
  },
  {
   "cell_type": "markdown",
   "metadata": {
    "id": "T9TejlitW2Q2"
   },
   "source": [
    "**3.** Пусть обучающая выборка очень большая. Что нужно делать в таком случае? Запишите, как нужно поменять правило обновления параметров.\n",
    "\n",
    "**Решение:** В таком случае можно, например, использовать стохастический градиентный спуск. А именно:\n",
    "1. Разбиваем данные на блоки (батчи).\n",
    "2. Для каждого блока считаем градиент и обновляем параметры. (Формулу см. в файле с решением)"
   ]
  },
  {
   "cell_type": "markdown",
   "metadata": {
    "id": "a_EvDaB7W2Q2"
   },
   "source": [
    "**Вывод:**\n",
    "Итак, мы рассмотрели простую двухслойную нейронную сеть и посчиатели произодные функции потерь методом обратного распространения ошибки (backpropagation). Это нужно для нахождения оптимальных параметров модели при минимизации функции потерь. Также мы показали, что делать, если обучающая выборка очень большая."
   ]
  },
  {
   "cell_type": "markdown",
   "metadata": {
    "id": "hwaX8xRXW2Q3"
   },
   "source": [
    "---\n",
    "### Задача 2.\n",
    "\n",
    "Напишите нейронную сеть из задачи 1 с помощью библиотеки `pytorch`, используя Sequential-стиль. Функция активации реализована как `torch.nn.Sigmoid`.\n",
    "\n",
    "*Внимание.* Для выполнения задачи потребуется установить библиотеку `pytorch`. Альтернативный вариант &mdash; выполнение в <a href=\"https://colab.research.google.com\" target=\"_blank\">Google Colab</a>. Учитывайте, что при длительном бездействии Colab может сам завершить работу ядра."
   ]
  },
  {
   "cell_type": "code",
   "execution_count": 2,
   "metadata": {
    "execution": {
     "iopub.execute_input": "2024-04-07T09:32:04.975109Z",
     "iopub.status.busy": "2024-04-07T09:32:04.974578Z",
     "iopub.status.idle": "2024-04-07T09:32:11.776024Z",
     "shell.execute_reply": "2024-04-07T09:32:11.775039Z",
     "shell.execute_reply.started": "2024-04-07T09:32:04.975077Z"
    },
    "id": "R03tSHFoW2Q4"
   },
   "outputs": [
    {
     "name": "stdout",
     "output_type": "stream",
     "text": [
      "2.1.2\n"
     ]
    }
   ],
   "source": [
    "import torch\n",
    "from torch import nn\n",
    "\n",
    "print(torch.__version__)"
   ]
  },
  {
   "cell_type": "markdown",
   "metadata": {
    "id": "t1_H2ptPW2Q3"
   },
   "source": [
    "Сгенерируем данные. Возьмите какую-либо нелинейную функцию $y(x)$."
   ]
  },
  {
   "cell_type": "code",
   "execution_count": 8,
   "metadata": {
    "execution": {
     "iopub.execute_input": "2024-04-07T09:34:32.669749Z",
     "iopub.status.busy": "2024-04-07T09:34:32.669083Z",
     "iopub.status.idle": "2024-04-07T09:34:32.738890Z",
     "shell.execute_reply": "2024-04-07T09:34:32.737869Z",
     "shell.execute_reply.started": "2024-04-07T09:34:32.669711Z"
    },
    "id": "nIB7KwUMW2Q3"
   },
   "outputs": [],
   "source": [
    "sample_size = int(1e6)\n",
    "x = sps.norm.rvs(size=(sample_size, 1))\n",
    "train_x, test_x = train_test_split(x, train_size=0.7, shuffle=True)\n",
    "y = train_x**2 + 2 * train_x\n",
    "\n",
    "assert y.shape == train_x.shape"
   ]
  },
  {
   "cell_type": "markdown",
   "metadata": {
    "id": "JLhEEGwOW2Q4"
   },
   "source": [
    "Обучите нейросеть на этих данных. Используйте код с занятия."
   ]
  },
  {
   "cell_type": "markdown",
   "metadata": {},
   "source": [
    "Зададим архитектуру нейросети, скорость обучения и функцию потерь:"
   ]
  },
  {
   "cell_type": "code",
   "execution_count": 9,
   "metadata": {
    "execution": {
     "iopub.execute_input": "2024-04-07T09:34:42.970044Z",
     "iopub.status.busy": "2024-04-07T09:34:42.969130Z",
     "iopub.status.idle": "2024-04-07T09:34:42.974329Z",
     "shell.execute_reply": "2024-04-07T09:34:42.973457Z",
     "shell.execute_reply.started": "2024-04-07T09:34:42.970013Z"
    },
    "id": "TGAZcfvNW2Q4"
   },
   "outputs": [],
   "source": [
    "# model = nn.Sequential(\n",
    "#     nn.Linear(in_features=1, out_features=2),\n",
    "#     nn.Sigmoid(),\n",
    "#     nn.Linear(in_features=2, out_features=1)\n",
    "# )\n",
    "\n",
    "# optimizer = torch.optim.SGD(model.parameters(), lr=0.001)\n",
    "# optim_func = nn.MSELoss()\n",
    "\n",
    "\n",
    "def optim_func(y_pred, y_true):\n",
    "    return torch.mean((y_pred - y_true) ** 2)"
   ]
  },
  {
   "cell_type": "markdown",
   "metadata": {},
   "source": [
    "Поменяем размерности для работы с молелью:"
   ]
  },
  {
   "cell_type": "code",
   "execution_count": 10,
   "metadata": {
    "execution": {
     "iopub.execute_input": "2024-04-07T09:35:44.209689Z",
     "iopub.status.busy": "2024-04-07T09:35:44.209301Z",
     "iopub.status.idle": "2024-04-07T09:35:44.282754Z",
     "shell.execute_reply": "2024-04-07T09:35:44.281750Z",
     "shell.execute_reply.started": "2024-04-07T09:35:44.209658Z"
    }
   },
   "outputs": [],
   "source": [
    "# x_tensor = x.reshape(-1, 1)\n",
    "# y_tensor = y.reshape(-1, 1)\n",
    "\n",
    "train_x = torch.FloatTensor(train_x)\n",
    "test_x = torch.FloatTensor(test_x)\n",
    "y = torch.FloatTensor(y)"
   ]
  },
  {
   "cell_type": "markdown",
   "metadata": {},
   "source": [
    "Напишем функцию визуализации процесса обучения."
   ]
  },
  {
   "cell_type": "code",
   "execution_count": 14,
   "metadata": {
    "execution": {
     "iopub.execute_input": "2024-04-07T09:41:37.449566Z",
     "iopub.status.busy": "2024-04-07T09:41:37.449197Z",
     "iopub.status.idle": "2024-04-07T09:41:37.457125Z",
     "shell.execute_reply": "2024-04-07T09:41:37.456190Z",
     "shell.execute_reply.started": "2024-04-07T09:41:37.449538Z"
    }
   },
   "outputs": [],
   "source": [
    "# def show_progress(x, y, y_pred, loss):\n",
    "\n",
    "#     y_pred = y_pred.detach()\n",
    "#     loss = loss.item()\n",
    "#     clear_output(wait=True)\n",
    "\n",
    "#     plt.figure(figsize=(10, 7))\n",
    "#     plt.scatter(x, y, alpha=0.75)\n",
    "#     plt.scatter(x, y_pred, color='orange', linewidth=5)\n",
    "#     plt.xlabel(\"x\")\n",
    "#     plt.ylabel(\"y\")\n",
    "#     plt.title(\"Результат обучения модели\\n\")\n",
    "#     plt.show()\n",
    "\n",
    "#     print(f\"MSE = {loss:.3f}\")\n",
    "\n",
    "\n",
    "def show_progress(x, y, y_pred, loss):\n",
    "    y_pred = y_pred.detach()\n",
    "    loss = loss.item()\n",
    "    clear_output(wait=True)\n",
    "\n",
    "    plt.figure(figsize=(10, 7))\n",
    "    plt.scatter(x, y, alpha=0.75, label=\"Реальные значния\")\n",
    "    plt.scatter(x, y_pred, color=\"orange\", linewidth=5, label=\"Предсказание\")\n",
    "    plt.legend(title=\"Функция\").get_frame().set_facecolor(\"white\")\n",
    "    plt.xlabel(\"x\")\n",
    "    plt.ylabel(\"y\")\n",
    "    plt.title(\"Результат обучения модели\\n\")\n",
    "    plt.show()\n",
    "\n",
    "    print(f\"MSE = {loss:.3f}\")"
   ]
  },
  {
   "cell_type": "markdown",
   "metadata": {},
   "source": [
    "Релизуем саму модель и одновременно визуализируем"
   ]
  },
  {
   "cell_type": "code",
   "execution_count": 19,
   "metadata": {
    "execution": {
     "iopub.execute_input": "2024-04-07T10:00:14.032392Z",
     "iopub.status.busy": "2024-04-07T10:00:14.031738Z",
     "iopub.status.idle": "2024-04-07T10:01:18.537678Z",
     "shell.execute_reply": "2024-04-07T10:01:18.536638Z",
     "shell.execute_reply.started": "2024-04-07T10:00:14.032358Z"
    },
    "id": "EfKQSiGVRIxl"
   },
   "outputs": [
    {
     "data": {
      "image/png": "[encoded data removed]",
      "text/plain": [
       "<Figure size 1000x700 with 1 Axes>"
      ]
     },
     "metadata": {},
     "output_type": "display_data"
    },
    {
     "name": "stdout",
     "output_type": "stream",
     "text": [
      "MSE = 0.973\n",
      "Готово!\n"
     ]
    }
   ],
   "source": [
    "# num_iter = 10000\n",
    "\n",
    "# for i in range(num_iter):\n",
    "#     y_pred = model(x_tensor)\n",
    "#     loss = optim_func(y_pred, y_tensor)\n",
    "#     loss.backward()\n",
    "#     optimizer.step()\n",
    "#     optimizer.zero_grad()\n",
    "\n",
    "#     if (i + 1) % 5 == 0:\n",
    "#         show_progress(x, y, y_pred, loss)\n",
    "\n",
    "#         if loss.item() < 5:\n",
    "#             print(\"Готово!\")\n",
    "#             break\n",
    "\n",
    "\n",
    "w11 = torch.ones(1, requires_grad=True)\n",
    "b11 = torch.ones(1, requires_grad=True)\n",
    "w12 = torch.ones(1, requires_grad=True)\n",
    "b12 = torch.ones(1, requires_grad=True)\n",
    "w21 = torch.ones(1, requires_grad=True)\n",
    "w22 = torch.ones(1, requires_grad=True)\n",
    "b2 = torch.ones(1, requires_grad=True)\n",
    "\n",
    "\n",
    "# Функция активации\n",
    "def act_func(x):\n",
    "    return (1 + torch.exp(-x)) ** (-1)\n",
    "\n",
    "\n",
    "# Количество итераций\n",
    "num_iter = 10000\n",
    "\n",
    "# Скорость обучения для параметров\n",
    "lr_w = 0.01\n",
    "lr_b = 0.05\n",
    "\n",
    "for i in range(num_iter):\n",
    "\n",
    "    # Forward pass: предсказание модели\n",
    "    y_pred = (\n",
    "        w21 * act_func(w11 * train_x + b11) + w22 * act_func(w12 * train_x + b12) + b2\n",
    "    )\n",
    "\n",
    "    # Вычисление оптимизируемой функции (MSE)\n",
    "    loss = optim_func(y_pred, y)\n",
    "\n",
    "    # Bakcward pass: вычисление градиентов\n",
    "    loss.backward()\n",
    "\n",
    "    # Оптимизация: обновление параметров\n",
    "    w11.data -= lr_w * w11.grad.data\n",
    "    b11.data -= lr_b * b11.grad.data\n",
    "    w12.data -= lr_w * w12.grad.data\n",
    "    b12.data -= lr_b * b12.grad.data\n",
    "    b2.data -= lr_b * b2.grad.data\n",
    "    w21.data -= lr_w * w21.grad.data\n",
    "    w22.data -= lr_b * w22.grad.data\n",
    "\n",
    "    # Зануление градиентов\n",
    "    w11.grad.zero_()\n",
    "    b11.grad.zero_()\n",
    "    w12.grad.zero_()\n",
    "    b12.grad.zero_()\n",
    "    b2.grad.zero_()\n",
    "    w21.grad.zero_()\n",
    "    w22.grad.zero_()\n",
    "\n",
    "    # График + вывод MSE через каждые 5 итераций\n",
    "    if (i + 1) % 5 == 0 and loss.item() < 1:\n",
    "        show_progress(train_x, y, y_pred, loss)\n",
    "        print(\"Готово!\")\n",
    "        break"
   ]
  },
  {
   "cell_type": "markdown",
   "metadata": {
    "id": "9MO9FNUDRFSJ"
   },
   "source": [
    "Визуализируйте предсказания и посчитайте MSE на тестовой части данных."
   ]
  },
  {
   "cell_type": "code",
   "execution_count": 20,
   "metadata": {
    "execution": {
     "iopub.execute_input": "2024-04-07T10:01:30.629657Z",
     "iopub.status.busy": "2024-04-07T10:01:30.629281Z",
     "iopub.status.idle": "2024-04-07T10:01:58.111344Z",
     "shell.execute_reply": "2024-04-07T10:01:58.110391Z",
     "shell.execute_reply.started": "2024-04-07T10:01:30.629612Z"
    }
   },
   "outputs": [
    {
     "data": {
      "image/png": "[encoded data removed]",
      "text/plain": [
       "<Figure size 1000x700 with 1 Axes>"
      ]
     },
     "metadata": {},
     "output_type": "display_data"
    }
   ],
   "source": [
    "test_y_pred = (\n",
    "    w21 * act_func(w11 * test_x + b11) + w22 * act_func(w12 * test_x + b12) + b2\n",
    ")\n",
    "test_y_true = test_x**2 + 2 * test_x\n",
    "\n",
    "plt.figure(figsize=(10, 7))\n",
    "plt.scatter(test_x, test_y_true.detach(), alpha=0.75, label=\"Реальные значния\")\n",
    "plt.scatter(\n",
    "    test_x, test_y_pred.detach(), color=\"orange\", linewidth=5, label=\"Предсказание\"\n",
    ")\n",
    "plt.legend(title=\"Функция\").get_frame().set_facecolor(\"white\")\n",
    "plt.xlabel(\"x\")\n",
    "plt.ylabel(\"y\")\n",
    "plt.title(\"Визуализация на тестовых данных\\n\")\n",
    "plt.show()"
   ]
  },
  {
   "cell_type": "markdown",
   "metadata": {},
   "source": [
    "Посчитаем MSE на тестовых данных:"
   ]
  },
  {
   "cell_type": "code",
   "execution_count": 22,
   "metadata": {
    "execution": {
     "iopub.execute_input": "2024-04-07T10:03:06.481689Z",
     "iopub.status.busy": "2024-04-07T10:03:06.481313Z",
     "iopub.status.idle": "2024-04-07T10:03:06.488172Z",
     "shell.execute_reply": "2024-04-07T10:03:06.487205Z",
     "shell.execute_reply.started": "2024-04-07T10:03:06.481661Z"
    }
   },
   "outputs": [
    {
     "name": "stdout",
     "output_type": "stream",
     "text": [
      "MSE: 0.972\n"
     ]
    }
   ],
   "source": [
    "print(\"MSE:\", round(optim_func(test_y_pred, test_y_true).item(), 3))"
   ]
  },
  {
   "cell_type": "markdown",
   "metadata": {
    "id": "zPoMmyGgW2Q3"
   },
   "source": [
    "**Вывод:**\n",
    "Как видим, MSE на обучающих и тестовых данных совпадают. А значит, модель не переобучилась. Mожно видеть, что изначально я использовал nn.Sequential, но потом написал решение без испольования этого модуля, так как предсказания получались совсем неадакватные по той причине, что отсечка по MSE стояла тоже неадекватная. Но позже исправил ошибку и понял, что без нее все работало бы верно. Также, в рамках дорешки я исправил ошибки: верно разделил данные на тестовую и обучающую (так как если генерировать еще одно нормальное распределение, то это сродни тестированию на обучающей выборке), добавил легенду на графики, а также при тестировании добавил сравнение с реальными значениями функции на тестовой выборке."
   ]
  }
 ],
 "metadata": {
  "colab": {
   "provenance": []
  },
  "kaggle": {
   "accelerator": "nvidiaTeslaT4",
   "dataSources": [
    {
     "datasetId": 4694612,
     "sourceId": 7977012,
     "sourceType": "datasetVersion"
    }
   ],
   "dockerImageVersionId": 30674,
   "isGpuEnabled": true,
   "isInternetEnabled": true,
   "language": "python",
   "sourceType": "notebook"
  },
  "kernelspec": {
   "display_name": "Python 3 (ipykernel)",
   "language": "python",
   "name": "python3"
  },
  "language_info": {
   "codemirror_mode": {
    "name": "ipython",
    "version": 3
   },
   "file_extension": ".py",
   "mimetype": "text/x-python",
   "name": "python",
   "nbconvert_exporter": "python",
   "pygments_lexer": "ipython3",
   "version": "3.10.12"
  }
 },
 "nbformat": 4,
 "nbformat_minor": 4
}
